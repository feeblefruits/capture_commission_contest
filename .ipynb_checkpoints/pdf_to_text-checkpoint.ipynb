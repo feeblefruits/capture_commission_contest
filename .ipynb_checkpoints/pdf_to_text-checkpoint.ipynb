{
 "cells": [
  {
   "cell_type": "code",
   "execution_count": 90,
   "metadata": {},
   "outputs": [],
   "source": [
    "import PyPDF2"
   ]
  },
  {
   "cell_type": "code",
   "execution_count": 1,
   "metadata": {},
   "outputs": [],
   "source": [
    "def get_page_text(page_number):\n",
    "\n",
    "    # extract text from one page\n",
    "\n",
    "    pageObj = pdfReader.getPage(page_number)\n",
    "    page_content = pageObj.extractText()\n",
    "\n",
    "    return page_content"
   ]
  },
  {
   "cell_type": "code",
   "execution_count": null,
   "metadata": {},
   "outputs": [],
   "source": [
    "def remove_capped_words(my_text):\n",
    "\n",
    "    # remove all_capped_words\n",
    "\n",
    "    no_upper_list = []\n",
    "\n",
    "    for word in my_text.split(' '):\n",
    "        if word.isupper() is False:\n",
    "            no_upper_list.append(word)\n",
    "        else:\n",
    "            pass\n",
    "\n",
    "    text = ' '.join(no_upper_list)\n",
    "\n",
    "    return text"
   ]
  },
  {
   "cell_type": "code",
   "execution_count": 91,
   "metadata": {},
   "outputs": [],
   "source": [
    "def extract_pdf_text(pdf_name):\n",
    "    \n",
    "    # define file details\n",
    "    \n",
    "    pdfFileObj = open(pdf_name, 'rb')\n",
    "    pdfReader = PyPDF2.PdfFileReader(pdfFileObj)\n",
    "    \n",
    "    page_list = []\n",
    "\n",
    "    for page in range(0, pdfReader.numPages):\n",
    "        \n",
    "        # apply text extraction to all pages\n",
    "\n",
    "        page_list.append(get_page_text(page))\n",
    "\n",
    "    all_text = ''.join(page_list)\n",
    "    \n",
    "    return remove_capped_words(all_text)"
   ]
  }
 ],
 "metadata": {
  "kernelspec": {
   "display_name": "Python 3",
   "language": "python",
   "name": "python3"
  },
  "language_info": {
   "codemirror_mode": {
    "name": "ipython",
    "version": 3
   },
   "file_extension": ".py",
   "mimetype": "text/x-python",
   "name": "python",
   "nbconvert_exporter": "python",
   "pygments_lexer": "ipython3",
   "version": "3.7.4"
  }
 },
 "nbformat": 4,
 "nbformat_minor": 2
}
