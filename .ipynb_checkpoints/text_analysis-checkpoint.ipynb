{
 "cells": [
  {
   "cell_type": "code",
   "execution_count": 4,
   "metadata": {},
   "outputs": [
    {
     "ename": "ModuleNotFoundError",
     "evalue": "No module named 'spacy'",
     "output_type": "error",
     "traceback": [
      "\u001b[0;31m---------------------------------------------------------------------------\u001b[0m",
      "\u001b[0;31mModuleNotFoundError\u001b[0m                       Traceback (most recent call last)",
      "\u001b[0;32m<ipython-input-4-9d35054d1288>\u001b[0m in \u001b[0;36m<module>\u001b[0;34m\u001b[0m\n\u001b[1;32m      1\u001b[0m \u001b[0;32mimport\u001b[0m \u001b[0mpdf_to_text\u001b[0m\u001b[0;34m\u001b[0m\u001b[0;34m\u001b[0m\u001b[0m\n\u001b[1;32m      2\u001b[0m \u001b[0;32mimport\u001b[0m \u001b[0mglob\u001b[0m\u001b[0;34m\u001b[0m\u001b[0;34m\u001b[0m\u001b[0m\n\u001b[0;32m----> 3\u001b[0;31m \u001b[0;32mimport\u001b[0m \u001b[0mspacy\u001b[0m\u001b[0;34m\u001b[0m\u001b[0;34m\u001b[0m\u001b[0m\n\u001b[0m\u001b[1;32m      4\u001b[0m \u001b[0;32mimport\u001b[0m \u001b[0men_core_web_sm\u001b[0m\u001b[0;34m\u001b[0m\u001b[0;34m\u001b[0m\u001b[0m\n\u001b[1;32m      5\u001b[0m \u001b[0;32mimport\u001b[0m \u001b[0men_core_web_md\u001b[0m\u001b[0;34m\u001b[0m\u001b[0;34m\u001b[0m\u001b[0m\n",
      "\u001b[0;31mModuleNotFoundError\u001b[0m: No module named 'spacy'"
     ]
    }
   ],
   "source": [
    "import pdf_to_text\n",
    "import glob\n",
    "import spacy\n",
    "import en_core_web_sm\n",
    "import en_core_web_md\n",
    "import pandas as pd\n",
    "\n",
    "# to extract date from pdf titles"
   ]
  },
  {
   "cell_type": "code",
   "execution_count": 3,
   "metadata": {},
   "outputs": [
    {
     "ename": "NameError",
     "evalue": "name 'glob' is not defined",
     "output_type": "error",
     "traceback": [
      "\u001b[0;31m---------------------------------------------------------------------------\u001b[0m",
      "\u001b[0;31mNameError\u001b[0m                                 Traceback (most recent call last)",
      "\u001b[0;32m<ipython-input-3-a8e1e6125f58>\u001b[0m in \u001b[0;36m<module>\u001b[0;34m\u001b[0m\n\u001b[1;32m      1\u001b[0m \u001b[0mpath\u001b[0m \u001b[0;34m=\u001b[0m \u001b[0;34mr'downloaded_pdfs\\*.pdf'\u001b[0m\u001b[0;34m\u001b[0m\u001b[0;34m\u001b[0m\u001b[0m\n\u001b[0;32m----> 2\u001b[0;31m \u001b[0mfolder\u001b[0m \u001b[0;34m=\u001b[0m \u001b[0mglob\u001b[0m\u001b[0;34m.\u001b[0m\u001b[0mglob\u001b[0m\u001b[0;34m(\u001b[0m\u001b[0mpath\u001b[0m\u001b[0;34m)\u001b[0m\u001b[0;34m\u001b[0m\u001b[0;34m\u001b[0m\u001b[0m\n\u001b[0m\u001b[1;32m      3\u001b[0m \u001b[0;34m\u001b[0m\u001b[0m\n\u001b[1;32m      4\u001b[0m \u001b[0;31m# check the number of files that are in the folder\u001b[0m\u001b[0;34m\u001b[0m\u001b[0;34m\u001b[0m\u001b[0;34m\u001b[0m\u001b[0m\n\u001b[1;32m      5\u001b[0m \u001b[0;34m\u001b[0m\u001b[0m\n",
      "\u001b[0;31mNameError\u001b[0m: name 'glob' is not defined"
     ]
    }
   ],
   "source": [
    "path = r'downloaded_pdfs\\*.pdf'\n",
    "folder = glob.glob(path)\n",
    "\n",
    "# check the number of files that are in the folder\n",
    "\n",
    "print('There are ' + str(len(folder)) + ' files in this folder')"
   ]
  },
  {
   "cell_type": "code",
   "execution_count": 130,
   "metadata": {},
   "outputs": [],
   "source": [
    "def get_date_from_file(file_name):\n",
    "    \n",
    "    # returns date name for file\n",
    "    \n",
    "    updated_date = '-'.join(file_name.split('\\\\')[-1].split('_')[:3]).replace('-Sessions.pdf', '2018').lower()\n",
    "    updated_date = updated_date.replace('28-september-', '28-september-2018')\n",
    "    \n",
    "    return updated_date"
   ]
  },
  {
   "cell_type": "code",
   "execution_count": 167,
   "metadata": {},
   "outputs": [],
   "source": [
    "def get_people(pdf_file):\n",
    "    \n",
    "    # apply text extraction to pdf_file\n",
    "\n",
    "    test_transcript = pdf_to_text.extract_pdf_text(pdf_file)\n",
    "    \n",
    "    # some light cleaning\n",
    "    \n",
    "    test_transcript = test_transcript.replace('\\n', '')\n",
    "    test_transcript = test_transcript.replace('  ', ' ')\n",
    "    test_transcript = test_transcript.replace('  ', ' ')\n",
    "    \n",
    "    # identify words \n",
    "    \n",
    "    document = spacy_nip(test_transcript)\n",
    "    labels = []\n",
    "\n",
    "    for element in document.ents:\n",
    "        labels.append('Type: %s, Value: %s' % (element.label_, element))\n",
    "    \n",
    "    # create persons_df\n",
    "    \n",
    "    peeps_df = pd.Series(labels)\n",
    "    peeps_df = peeps_df[peeps_df.str.contains('PERSON')]\n",
    "\n",
    "    peeps_df = peeps_df.reset_index()\n",
    "    peeps_df.columns = ['index', 'term']\n",
    "\n",
    "    def remove_person(df_column):\n",
    "        return df_column.replace('Type: PERSON, Value: ', '')\n",
    "\n",
    "    peeps_df['term'] = peeps_df['term'].apply(remove_person)\n",
    "    \n",
    "    return peeps_df"
   ]
  },
  {
   "cell_type": "code",
   "execution_count": 172,
   "metadata": {},
   "outputs": [],
   "source": [
    "import numpy as np\n",
    "\n",
    "import nltk\n",
    "\n",
    "# The function uses NLP to find the most popular words in given text\n",
    "\n",
    "def popular_words(text_column):\n",
    "\n",
    "    # Converting all project descriptions to text\n",
    "    text = text_column\n",
    "    text = text.str.cat(sep=' ')\n",
    "    text = text.split(' ')\n",
    "\n",
    "    # Remove single-character tokens (mostly punctuation)\n",
    "    text = [word for word in text if len(word) > 1]\n",
    "\n",
    "    # Lowercase all words (default_stopwords are lowercase too)\n",
    "    text = [word.lower() for word in text]\n",
    "\n",
    "    fdist = nltk.FreqDist(text)\n",
    "    \n",
    "    return fdist.most_common()"
   ]
  },
  {
   "cell_type": "code",
   "execution_count": 196,
   "metadata": {},
   "outputs": [],
   "source": [
    "def get_df(file_name):\n",
    "    \n",
    "    # create df with name and frequency\n",
    "\n",
    "    name = []\n",
    "    freq = []\n",
    "\n",
    "    for i in popular_words(get_people(file_name)['term']):\n",
    "\n",
    "        name.append(i[0])\n",
    "        freq.append(i[1])\n",
    "\n",
    "    freq_df = pd.DataFrame()\n",
    "\n",
    "    freq_df['Name'] = name\n",
    "    freq_df['Freq'] = freq\n",
    "    \n",
    "    return freq_df.to_csv(r'C:\\Users\\jcoet\\Projects\\zondo_text_extract\\text_analysis\\name_freq_dfs\\%s.csv' %get_date_from_file(file_name))"
   ]
  },
  {
   "cell_type": "code",
   "execution_count": 198,
   "metadata": {},
   "outputs": [],
   "source": [
    "for file in folder:\n",
    "    \n",
    "    # loop over all PDF files in folder\n",
    "    \n",
    "    get_df(file)"
   ]
  },
  {
   "cell_type": "code",
   "execution_count": null,
   "metadata": {},
   "outputs": [],
   "source": []
  }
 ],
 "metadata": {
  "kernelspec": {
   "display_name": "Python 3",
   "language": "python",
   "name": "python3"
  },
  "language_info": {
   "codemirror_mode": {
    "name": "ipython",
    "version": 3
   },
   "file_extension": ".py",
   "mimetype": "text/x-python",
   "name": "python",
   "nbconvert_exporter": "python",
   "pygments_lexer": "ipython3",
   "version": "3.7.4"
  }
 },
 "nbformat": 4,
 "nbformat_minor": 2
}
