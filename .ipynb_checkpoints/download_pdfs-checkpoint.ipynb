{
 "cells": [
  {
   "cell_type": "code",
   "execution_count": null,
   "metadata": {},
   "outputs": [],
   "source": [
    "from requests import get\n",
    "import requests\n",
    "from bs4 import BeautifulSoup\n",
    "import os\n",
    "import numpy as np"
   ]
  },
  {
   "cell_type": "code",
   "execution_count": null,
   "metadata": {},
   "outputs": [],
   "source": [
    "def download_pdf(url):\n",
    "    \n",
    "    '''\n",
    "    Requires PDF URL\n",
    "    Outputs PDF file to local directory called downloaded_pdfs\n",
    "    '''\n",
    "\n",
    "    response = requests.get(url)\n",
    "    \n",
    "    file_name = str(url).split('/')[-1]\n",
    "    directory = 'downloaded_pdfs'\n",
    "    \n",
    "    if not os.path.exists(directory):    \n",
    "        os.mkdir(directory)\n",
    "        \n",
    "    with open(os.path.join(directory, file_name), 'wb') as f:\n",
    "        f.write(response.content)"
   ]
  },
  {
   "cell_type": "code",
   "execution_count": null,
   "metadata": {},
   "outputs": [],
   "source": [
    "# define statecapture transcripts page\n",
    "\n",
    "url = get('https://www.sastatecapture.org.za/site/transcripts')\n",
    "soup = BeautifulSoup(url.text, 'html.parser')"
   ]
  },
  {
   "cell_type": "code",
   "execution_count": null,
   "metadata": {},
   "outputs": [],
   "source": [
    "# identify all links on page\n",
    "\n",
    "links = soup.find_all('a')"
   ]
  },
  {
   "cell_type": "code",
   "execution_count": null,
   "metadata": {},
   "outputs": [],
   "source": [
    "pdf_docs = []\n",
    "\n",
    "for link in links:\n",
    "    \n",
    "    try:\n",
    "        # identify pdf links and append to list\n",
    "        \n",
    "        if str(link).split('/')[4] == 'files':\n",
    "            pdf_docs.append(str(link).split('\"')[3])\n",
    "        else:\n",
    "            pass\n",
    "    except IndexError:\n",
    "        pass"
   ]
  },
  {
   "cell_type": "code",
   "execution_count": null,
   "metadata": {},
   "outputs": [],
   "source": [
    "for link in pdf_docs:\n",
    "    \n",
    "    # download all pdfs\n",
    "    \n",
    "    download_pdf(link)"
   ]
  },
  {
   "cell_type": "code",
   "execution_count": null,
   "metadata": {},
   "outputs": [],
   "source": []
  }
 ],
 "metadata": {
  "kernelspec": {
   "display_name": "Python 3",
   "language": "python",
   "name": "python3"
  },
  "language_info": {
   "codemirror_mode": {
    "name": "ipython",
    "version": 3
   },
   "file_extension": ".py",
   "mimetype": "text/x-python",
   "name": "python",
   "nbconvert_exporter": "python",
   "pygments_lexer": "ipython3",
   "version": "3.7.4"
  }
 },
 "nbformat": 4,
 "nbformat_minor": 2
}
