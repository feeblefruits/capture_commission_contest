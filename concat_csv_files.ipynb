{
 "cells": [
  {
   "cell_type": "code",
   "execution_count": 1,
   "metadata": {},
   "outputs": [],
   "source": [
    "import pdf_to_text\n",
    "import glob\n",
    "\n",
    "import pandas as pd\n",
    "\n",
    "# to extract date from pdf titles"
   ]
  },
  {
   "cell_type": "code",
   "execution_count": 5,
   "metadata": {},
   "outputs": [
    {
     "name": "stdout",
     "output_type": "stream",
     "text": [
      "There are 38 files in this folder\n"
     ]
    }
   ],
   "source": [
    "path = r'C:\\Users\\jcoet\\Projects\\capture_commission_contest\\capture_commission_contest\\text_analysis\\name_freq_dfs\\*.csv'\n",
    "folder = glob.glob(path)\n",
    "\n",
    "# check the number of files that are in the folder\n",
    "\n",
    "print('There are ' + str(len(folder)) + ' files in this folder')"
   ]
  },
  {
   "cell_type": "code",
   "execution_count": 9,
   "metadata": {},
   "outputs": [],
   "source": [
    "for csv in folder:\n",
    "    \n",
    "    df = pd.read_csv(csv)\n",
    "\n",
    "    combined_df = pd.concat([df], axis=1)"
   ]
  },
  {
   "cell_type": "code",
   "execution_count": 16,
   "metadata": {},
   "outputs": [],
   "source": [
    "df = pd.concat([pd.read_csv(f) for f in folder], ignore_index = True, axis=1)"
   ]
  },
  {
   "cell_type": "code",
   "execution_count": null,
   "metadata": {},
   "outputs": [],
   "source": []
  }
 ],
 "metadata": {
  "kernelspec": {
   "display_name": "Python 3",
   "language": "python",
   "name": "python3"
  },
  "language_info": {
   "codemirror_mode": {
    "name": "ipython",
    "version": 3
   },
   "file_extension": ".py",
   "mimetype": "text/x-python",
   "name": "python",
   "nbconvert_exporter": "python",
   "pygments_lexer": "ipython3",
   "version": "3.6.6"
  }
 },
 "nbformat": 4,
 "nbformat_minor": 2
}
