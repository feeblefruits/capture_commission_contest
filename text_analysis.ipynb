{
 "cells": [
  {
   "cell_type": "code",
   "execution_count": null,
   "metadata": {},
   "outputs": [],
   "source": [
    "import pdf_to_text\n",
    "import glob\n",
    "import os\n",
    "import spacy\n",
    "import numpy as np\n",
    "import nltk\n",
    "\n",
    "import pandas as pd"
   ]
  },
  {
   "cell_type": "code",
   "execution_count": null,
   "metadata": {},
   "outputs": [],
   "source": [
    "path = 'downloaded_pdfs/*.pdf'\n",
    "folder = glob.glob(path)\n",
    "\n",
    "# check the number of files that are in the folder\n",
    "\n",
    "if len(folder) == 0:\n",
    "    print('There are 0 pdfs in this directory')\n",
    "    \n",
    "else:\n",
    "    print('There are ' + str(len(folder)) + ' pdfs in this directory')"
   ]
  },
  {
   "cell_type": "code",
   "execution_count": null,
   "metadata": {},
   "outputs": [],
   "source": [
    "def get_date_from_file(file_name):\n",
    "    \n",
    "    '''\n",
    "    Takes file name, including directory\n",
    "    Returns date in %d-%B-%Y (26-june-2019) format\n",
    "    '''\n",
    "    \n",
    "    date = file_name.split('/')[-1].replace('_Sessions', '').lower()\n",
    "    date = date.replace('.pdf', '')\n",
    "    date = date.replace('_', '-')\n",
    "    \n",
    "    return date"
   ]
  },
  {
   "cell_type": "code",
   "execution_count": null,
   "metadata": {},
   "outputs": [],
   "source": [
    "def get_people(pdf_file):\n",
    "    \n",
    "    '''\n",
    "    Requires pdf file\n",
    "    Returns df with person names\n",
    "    '''\n",
    "    \n",
    "    # apply text extraction to pdf_file\n",
    "\n",
    "    test_transcript = pdf_to_text.extract_pdf_text(pdf_file)\n",
    "    \n",
    "    # some light cleaning\n",
    "    \n",
    "    test_transcript = test_transcript.replace('\\n', '')\n",
    "    test_transcript = test_transcript.replace('  ', ' ')\n",
    "    test_transcript = test_transcript.replace('  ', ' ')\n",
    "    \n",
    "    # identify words\n",
    "    \n",
    "    spacy_nlp = spacy.load(\"en_core_web_sm\")\n",
    "    \n",
    "    document = spacy_nlp(test_transcript)\n",
    "    labels = []\n",
    "\n",
    "    for element in document.ents:\n",
    "        labels.append('Type: %s, Value: %s' % (element.label_, element))\n",
    "    \n",
    "    # create persons_df\n",
    "    \n",
    "    peeps_df = pd.Series(labels)\n",
    "    peeps_df = peeps_df[peeps_df.str.contains('PERSON')]\n",
    "\n",
    "    peeps_df = peeps_df.reset_index()\n",
    "    peeps_df.columns = ['index', 'term']\n",
    "\n",
    "    peeps_df['term'] = peeps_df['term'].replace('Type: PERSON, Value: ', '')\n",
    "    \n",
    "    return peeps_df"
   ]
  },
  {
   "cell_type": "code",
   "execution_count": null,
   "metadata": {},
   "outputs": [],
   "source": [
    "def popular_words(text_column):\n",
    "    \n",
    "    '''\n",
    "    Requires df column with strings\n",
    "    Returns most common texts\n",
    "    '''\n",
    "\n",
    "    # Converting all project descriptions to text\n",
    "    text = text_column\n",
    "    text = text.str.cat(sep=' ')\n",
    "    text = text.split(' ')\n",
    "\n",
    "    # Remove single-character tokens (mostly punctuation)\n",
    "    text = [word for word in text if len(word) > 1]\n",
    "\n",
    "    # Lowercase all words (default_stopwords are lowercase too)\n",
    "    text = [word.lower() for word in text]\n",
    "\n",
    "    fdist = nltk.FreqDist(text)\n",
    "    \n",
    "    return fdist.most_common()"
   ]
  },
  {
   "cell_type": "code",
   "execution_count": null,
   "metadata": {},
   "outputs": [],
   "source": [
    "def get_df(file_name):\n",
    "    \n",
    "    '''\n",
    "    Requires file_name\n",
    "    Saves df with most freq words\n",
    "    '''\n",
    "    \n",
    "    name = []\n",
    "    freq = []\n",
    "\n",
    "    for i in popular_words(get_people(file_name)['term']):\n",
    "\n",
    "        name.append(i[0])\n",
    "        freq.append(i[1])\n",
    "\n",
    "    freq_df = pd.DataFrame()\n",
    "\n",
    "    freq_df['Name'] = name\n",
    "    freq_df['Freq'] = freq\n",
    "    \n",
    "    directory = 'name_freq_dfs'\n",
    "    \n",
    "    if not os.path.exists(directory):    \n",
    "        os.mkdir(directory)\n",
    "        \n",
    "    else:\n",
    "        file_name = get_date_from_file(file_name)\n",
    "        freq_df.to_csv(directory + '/' + file_name + '.csv')"
   ]
  },
  {
   "cell_type": "code",
   "execution_count": null,
   "metadata": {},
   "outputs": [],
   "source": [
    "for file in folder:\n",
    "    get_df(file)"
   ]
  },
  {
   "cell_type": "code",
   "execution_count": null,
   "metadata": {},
   "outputs": [],
   "source": []
  }
 ],
 "metadata": {
  "kernelspec": {
   "display_name": "Python 3",
   "language": "python",
   "name": "python3"
  },
  "language_info": {
   "codemirror_mode": {
    "name": "ipython",
    "version": 3
   },
   "file_extension": ".py",
   "mimetype": "text/x-python",
   "name": "python",
   "nbconvert_exporter": "python",
   "pygments_lexer": "ipython3",
   "version": "3.7.4"
  }
 },
 "nbformat": 4,
 "nbformat_minor": 2
}
